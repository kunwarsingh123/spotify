{
 "cells": [
  {
   "cell_type": "markdown",
   "id": "07244d86-0ef7-4b3b-a584-4c3ed06b7eb5",
   "metadata": {},
   "source": [
    "Q1. Which keyword is used to create a function? Create a function to return a list of odd numbers in the\n",
    "range of 1 to 25.\n",
    "\n",
    "Answer-:"
   ]
  },
  {
   "cell_type": "code",
   "execution_count": 1,
   "id": "d4e10cae-7533-4375-9587-b024e3e83033",
   "metadata": {},
   "outputs": [],
   "source": [
    "def odd_func(n) :\n",
    "    i=1\n",
    "    print(\"hi\")\n",
    "    while i<=n:\n",
    "        if i%2!=0 :\n",
    "            print(i)\n",
    "        i=i+1\n",
    "    \n",
    "\n",
    "    "
   ]
  },
  {
   "cell_type": "code",
   "execution_count": 2,
   "id": "e407ea9b-ed21-44f1-bb3d-a1e784e2542e",
   "metadata": {},
   "outputs": [
    {
     "name": "stdout",
     "output_type": "stream",
     "text": [
      "hi\n",
      "1\n",
      "3\n",
      "5\n",
      "7\n",
      "9\n",
      "11\n",
      "13\n",
      "15\n",
      "17\n",
      "19\n",
      "21\n",
      "23\n",
      "25\n"
     ]
    }
   ],
   "source": [
    "odd_func(25)"
   ]
  },
  {
   "cell_type": "markdown",
   "id": "c1f8b0e3-61a6-4616-8be2-3b0c6a78c713",
   "metadata": {},
   "source": [
    "Q2. Why *args and **kwargs is used in some functions? Create a function each for *args and **kwargs\n",
    "to demonstrate their use.\n",
    "\n",
    "Answer-) *args given multiple value and it is tuple form return value  and **args is given value key and pair and it return value dict form\n"
   ]
  },
  {
   "cell_type": "code",
   "execution_count": 3,
   "id": "3b0bffe9-1c4d-405f-9fed-249b1a27d385",
   "metadata": {},
   "outputs": [],
   "source": [
    "def t1(*args) :\n",
    "    sum=0\n",
    "    for i in args :\n",
    "        sum = sum+i\n",
    "    return sum"
   ]
  },
  {
   "cell_type": "code",
   "execution_count": 4,
   "id": "4ea44931-d628-42d9-9b46-4ee78ca3b22b",
   "metadata": {},
   "outputs": [],
   "source": [
    "t1=t1(25,5,5,44)\n"
   ]
  },
  {
   "cell_type": "code",
   "execution_count": 5,
   "id": "6aa1c5b2-8f10-490a-b706-b649b15ce0bd",
   "metadata": {},
   "outputs": [
    {
     "name": "stdout",
     "output_type": "stream",
     "text": [
      "79\n"
     ]
    }
   ],
   "source": [
    "print(t1)"
   ]
  },
  {
   "cell_type": "markdown",
   "id": "3398a808-3ee7-42f1-9d13-37c33cca356c",
   "metadata": {},
   "source": [
    "Q3. What is an iterator in python? Name the method used to initialise the iterator object and the method\n",
    "used for iteration. Use these methods to print the first five elements of the given list [2, 4, 6, 8, 10, 12, 14,\n",
    "16, 18, 20].\n"
   ]
  },
  {
   "cell_type": "markdown",
   "id": "38179354-9cdc-4600-89f2-fa5a19db357f",
   "metadata": {},
   "source": [
    "Answer-:\n",
    "         iterator are used in access of element in list and it help access of every element"
   ]
  },
  {
   "cell_type": "code",
   "execution_count": 12,
   "id": "b32c5d20-ddc4-44ca-84ce-783f9fe3eaaa",
   "metadata": {},
   "outputs": [],
   "source": [
    "k=[2, 4, 6, 8, 10, 12, 14, 16, 18, 20]"
   ]
  },
  {
   "cell_type": "code",
   "execution_count": 14,
   "id": "72af3dfd-7808-48bf-b84a-2cf86eef466e",
   "metadata": {},
   "outputs": [
    {
     "name": "stdout",
     "output_type": "stream",
     "text": [
      "2\n",
      "4\n",
      "6\n",
      "8\n",
      "10\n"
     ]
    }
   ],
   "source": [
    "kk=iter(k)\n",
    "print(next(kk))\n",
    "print(next(kk))\n",
    "print(next(kk))\n",
    "print(next(kk))\n",
    "print(next(kk))\n"
   ]
  },
  {
   "cell_type": "markdown",
   "id": "5c83d055-beff-412a-9be9-db4cb791debf",
   "metadata": {},
   "source": [
    "4)What is a generator function in python? Why yield keyword is used? Give an example of a generator\n",
    "function."
   ]
  },
  {
   "cell_type": "markdown",
   "id": "b23516fb-a549-4ac5-a6eb-50f50d7f8553",
   "metadata": {},
   "source": [
    "Answer-:\n",
    "       Generator function is an iterator function and return value using yield keyword"
   ]
  },
  {
   "cell_type": "code",
   "execution_count": 16,
   "id": "9d117495-d465-42ee-8000-e1bf60ad3a70",
   "metadata": {},
   "outputs": [],
   "source": [
    "def numb(n) :\n",
    "    while n>=0 :\n",
    "        yield n\n",
    "        n=n-1"
   ]
  },
  {
   "cell_type": "code",
   "execution_count": 19,
   "id": "0e566284-3c95-4ad4-a768-5467cc37f8e7",
   "metadata": {},
   "outputs": [
    {
     "name": "stdout",
     "output_type": "stream",
     "text": [
      "10\n",
      "9\n",
      "8\n",
      "7\n",
      "6\n",
      "5\n",
      "4\n",
      "3\n",
      "2\n",
      "1\n",
      "0\n"
     ]
    }
   ],
   "source": [
    "k=numb(10)\n",
    "for i in k:\n",
    "    print(i)"
   ]
  },
  {
   "cell_type": "markdown",
   "id": "b2e62fe1-f3e7-40eb-aed1-d37620caf037",
   "metadata": {},
   "source": [
    "Q5. Create a generator function for prime numbers less than 1000. Use the next() method to print the\n",
    "first 20 prime numbers.\n"
   ]
  },
  {
   "cell_type": "code",
   "execution_count": 28,
   "id": "e7baa4ee-8461-4d69-a901-f7b10f27da68",
   "metadata": {},
   "outputs": [],
   "source": [
    "def prime_number(n) :\n",
    "   \n",
    "  \n",
    "    "
   ]
  },
  {
   "cell_type": "code",
   "execution_count": 29,
   "id": "9cc6cdec-2cab-4dfe-8b1a-d97804ac6a5c",
   "metadata": {},
   "outputs": [
    {
     "ename": "TypeError",
     "evalue": "'int' object is not iterable",
     "output_type": "error",
     "traceback": [
      "\u001b[0;31m---------------------------------------------------------------------------\u001b[0m",
      "\u001b[0;31mTypeError\u001b[0m                                 Traceback (most recent call last)",
      "Cell \u001b[0;32mIn[29], line 1\u001b[0m\n\u001b[0;32m----> 1\u001b[0m \u001b[43mprime_number\u001b[49m\u001b[43m(\u001b[49m\u001b[38;5;241;43m5\u001b[39;49m\u001b[43m)\u001b[49m\n",
      "Cell \u001b[0;32mIn[28], line 2\u001b[0m, in \u001b[0;36mprime_number\u001b[0;34m(n)\u001b[0m\n\u001b[1;32m      1\u001b[0m \u001b[38;5;28;01mdef\u001b[39;00m \u001b[38;5;21mprime_number\u001b[39m(n) :\n\u001b[0;32m----> 2\u001b[0m     \u001b[38;5;28;01mfor\u001b[39;00m i \u001b[38;5;129;01min\u001b[39;00m n :\n\u001b[1;32m      3\u001b[0m         \u001b[38;5;28mprint\u001b[39m(i)\n\u001b[1;32m      4\u001b[0m         i\u001b[38;5;241m=\u001b[39mi\u001b[38;5;241m+\u001b[39m\u001b[38;5;241m1\u001b[39m\n",
      "\u001b[0;31mTypeError\u001b[0m: 'int' object is not iterable"
     ]
    }
   ],
   "source": [
    "prime_number(5)"
   ]
  },
  {
   "cell_type": "markdown",
   "id": "88b4af09-f238-4000-976c-a93c9e115e4b",
   "metadata": {},
   "source": [
    "please provide me answer\n"
   ]
  },
  {
   "cell_type": "markdown",
   "id": "9ca89899-237b-48bd-9a48-41b8e5ad40bc",
   "metadata": {},
   "source": [
    "Q6. Write a python program to print the first 10 Fibonacci numbers using a while loop.\n",
    "ANSWER-:\n"
   ]
  },
  {
   "cell_type": "code",
   "execution_count": 33,
   "id": "dc35f6bc-69f1-4892-aed3-23824249430f",
   "metadata": {},
   "outputs": [],
   "source": [
    "def fib(n) :\n",
    "    a,b=0,1\n",
    "    i=0\n",
    "    while i<n :\n",
    "        a,b=b,a+b\n",
    "        yield a\n",
    "        i=i+1\n",
    "        "
   ]
  },
  {
   "cell_type": "code",
   "execution_count": 34,
   "id": "779c355a-0964-4030-ab9a-3034f8391545",
   "metadata": {},
   "outputs": [],
   "source": [
    "number=fib(10)"
   ]
  },
  {
   "cell_type": "code",
   "execution_count": 35,
   "id": "bf0faba8-959e-44eb-a9a4-9c1b68c22079",
   "metadata": {},
   "outputs": [
    {
     "name": "stdout",
     "output_type": "stream",
     "text": [
      "1\n",
      "1\n",
      "2\n",
      "3\n",
      "5\n",
      "8\n",
      "13\n",
      "21\n",
      "34\n",
      "55\n"
     ]
    }
   ],
   "source": [
    "for i in number :\n",
    "    print(i)"
   ]
  },
  {
   "cell_type": "markdown",
   "id": "1966e692-05fe-4d6b-8d00-b5ca4e979ac9",
   "metadata": {},
   "source": [
    "Q7. Write a List Comprehension to iterate through the given string: ‘pwskills’.\n",
    "Expected output: ['p', 'w', 's', 'k', 'i', 'l', 'l', 's']"
   ]
  },
  {
   "cell_type": "code",
   "execution_count": 40,
   "id": "f4fe3dcc-25b1-4d8e-9ac1-326e256b97d2",
   "metadata": {},
   "outputs": [],
   "source": [
    "k=\"pwskills\"\n",
    "lis=[]\n",
    "for i in k:\n",
    "   lis.append(i)"
   ]
  },
  {
   "cell_type": "code",
   "execution_count": 41,
   "id": "70ba58c8-35fa-4bbb-8ae0-bc78d7989388",
   "metadata": {},
   "outputs": [
    {
     "data": {
      "text/plain": [
       "['p', 'w', 's', 'k', 'i', 'l', 'l', 's']"
      ]
     },
     "execution_count": 41,
     "metadata": {},
     "output_type": "execute_result"
    }
   ],
   "source": [
    "lis"
   ]
  },
  {
   "cell_type": "markdown",
   "id": "262727d3-a930-4cc1-a4bd-d0907669f508",
   "metadata": {},
   "source": [
    "Q8. Write a python program to check whether a given number is Palindrome or not using a while loop."
   ]
  },
  {
   "cell_type": "code",
   "execution_count": 1,
   "id": "4ad34b6a-cf04-491b-8833-0c88ef9d823f",
   "metadata": {},
   "outputs": [
    {
     "name": "stdin",
     "output_type": "stream",
     "text": [
      "enter : 555\n"
     ]
    },
    {
     "name": "stdout",
     "output_type": "stream",
     "text": [
      "555\n",
      "555\n",
      "555\n",
      "yes pallindrom\n"
     ]
    }
   ],
   "source": [
    "def palli(n):\n",
    "    sum=0\n",
    "    rem=0\n",
    "    while n>0:\n",
    "        rem=n%10\n",
    "        sum=sum*10+rem\n",
    "        n=n//10\n",
    "    print(sum)\n",
    "    return sum\n",
    "      \n",
    "n=int(input(\"enter :\"))\n",
    "ans =palli(n)\n",
    "print(n)\n",
    "print(ans)\n",
    "if n==ans :\n",
    "    print(\"yes pallindrom\")\n",
    "else :\n",
    "    print(\"NO pallindrom\")  \n",
    "        "
   ]
  },
  {
   "cell_type": "markdown",
   "id": "a25abbe0-fa34-46dd-88fe-ea273f161086",
   "metadata": {},
   "source": [
    "Q9. Write a code to print odd numbers from 1 to 100 using list comprehension."
   ]
  },
  {
   "cell_type": "code",
   "execution_count": 7,
   "id": "19942014-9b63-4ae0-bd64-cfd70d48b930",
   "metadata": {},
   "outputs": [],
   "source": [
    "def odd(n) :\n",
    "    for i in range(1,n):\n",
    "        if n%2!=0:\n",
    "            yield i\n",
    "            i+=1"
   ]
  },
  {
   "cell_type": "code",
   "execution_count": 8,
   "id": "7c217f06-c9b7-452b-bac9-8f267202bc33",
   "metadata": {},
   "outputs": [
    {
     "name": "stdout",
     "output_type": "stream",
     "text": [
      "3\n",
      "6\n",
      "7\n",
      "8\n",
      "9\n",
      "11\n",
      "12\n",
      "13\n",
      "14\n",
      "15\n",
      "16\n",
      "17\n",
      "18\n",
      "19\n",
      "21\n",
      "22\n",
      "23\n",
      "24\n",
      "26\n",
      "27\n",
      "28\n",
      "29\n",
      "30\n",
      "31\n",
      "32\n",
      "33\n",
      "34\n",
      "35\n",
      "36\n",
      "37\n",
      "38\n",
      "39\n",
      "40\n",
      "41\n",
      "42\n",
      "43\n",
      "44\n",
      "45\n",
      "46\n",
      "47\n",
      "48\n",
      "49\n",
      "51\n",
      "52\n",
      "53\n",
      "54\n",
      "55\n",
      "56\n",
      "57\n",
      "58\n",
      "59\n",
      "60\n",
      "61\n",
      "62\n",
      "63\n",
      "64\n",
      "65\n",
      "66\n",
      "67\n",
      "68\n",
      "69\n",
      "70\n",
      "71\n",
      "72\n",
      "73\n",
      "74\n",
      "75\n",
      "76\n",
      "77\n",
      "78\n",
      "79\n",
      "80\n",
      "81\n",
      "82\n",
      "83\n",
      "84\n",
      "85\n",
      "86\n",
      "87\n",
      "88\n",
      "89\n",
      "90\n",
      "91\n",
      "92\n",
      "93\n",
      "94\n",
      "95\n",
      "96\n",
      "97\n",
      "98\n",
      "99\n"
     ]
    }
   ],
   "source": [
    "nos=odd(100)\n",
    "for i in nos:\n",
    "    print(i)"
   ]
  },
  {
   "cell_type": "code",
   "execution_count": null,
   "id": "aa7e84ec-69f7-41cc-87b4-8c8691bfb08b",
   "metadata": {},
   "outputs": [],
   "source": []
  }
 ],
 "metadata": {
  "kernelspec": {
   "display_name": "Python 3 (ipykernel)",
   "language": "python",
   "name": "python3"
  },
  "language_info": {
   "codemirror_mode": {
    "name": "ipython",
    "version": 3
   },
   "file_extension": ".py",
   "mimetype": "text/x-python",
   "name": "python",
   "nbconvert_exporter": "python",
   "pygments_lexer": "ipython3",
   "version": "3.10.8"
  }
 },
 "nbformat": 4,
 "nbformat_minor": 5
}
